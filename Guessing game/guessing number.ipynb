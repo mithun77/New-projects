{
 "cells": [
  {
   "cell_type": "code",
   "execution_count": 6,
   "metadata": {},
   "outputs": [
    {
     "name": "stdout",
     "output_type": "stream",
     "text": [
      "Enter the size in which you want to guess10\n"
     ]
    }
   ],
   "source": [
    "import random\n",
    "import os\n",
    "import sympy\n",
    "def cls():\n",
    "    os.system(\"cls\")\n",
    "a=int(input(\"Enter the size in which you want to guess\"))"
   ]
  },
  {
   "cell_type": "code",
   "execution_count": 7,
   "metadata": {},
   "outputs": [
    {
     "name": "stdout",
     "output_type": "stream",
     "text": [
      "Guess the number4\n",
      "6\n"
     ]
    }
   ],
   "source": [
    "n=random.randint(1,a)\n",
    "g=int(input(\"Guess the number\"))\n",
    "print(n)"
   ]
  },
  {
   "cell_type": "code",
   "execution_count": null,
   "metadata": {},
   "outputs": [
    {
     "name": "stdout",
     "output_type": "stream",
     "text": [
      "click the below option for specific clues \n",
      " 1.odd/even \n",
      " 2.Less of greater than \n",
      " 3.if its a prime or not\n",
      "Enter here1\n",
      "the number is even\n",
      "your guess7\n",
      "click the below option for specific clues \n",
      " 1.odd/even \n",
      " 2.Less of greater than \n",
      " 3.if its a prime or not\n",
      "Enter here1\n",
      "the number is even\n"
     ]
    }
   ],
   "source": [
    "z=True\n",
    "while z:\n",
    "    cls()\n",
    "    if g==n:\n",
    "        print(\"Your answer is correct\")\n",
    "        z=False\n",
    "        break\n",
    "    else:\n",
    "        cls()\n",
    "        print(\"click the below option for specific clues\",\"\\n\",\"1.odd/even\",\"\\n\",\"2.Less of greater than\",\"\\n\",\"3.if its a prime or not\")\n",
    "        v=True\n",
    "        while v:\n",
    "            x=int(input(\"Enter here\"))\n",
    "            if(x==1):\n",
    "                  if n%2==0:\n",
    "                      print(\"the number is even\")\n",
    "                  else:\n",
    "                      print(\"the number is odd\")\n",
    "                  g=int(input(\"your guess\"))\n",
    "                  v=False\n",
    "            elif(x==2):\n",
    "                  if g<n:\n",
    "                      print(\"the num is greater than the entered number\")\n",
    "                  else:\n",
    "                      print(\"the num is lesser than the entered number\")\n",
    "                  g=int(input(\"your guess\"))\n",
    "                  v=False\n",
    "            elif(x==3):\n",
    "                  if(sympy.isprime(x)):\n",
    "                      print(\"it is a prime\")\n",
    "                  else:\n",
    "                      print(\"Not a prime\")\n",
    "                  g=int(input(\"your guess\"))\n",
    "                  v=False\n",
    "            else:\n",
    "                  print(\"Please enter the proper option\")\n",
    "              "
   ]
  },
  {
   "cell_type": "code",
   "execution_count": null,
   "metadata": {},
   "outputs": [],
   "source": [
    "print(\"asdfbakjhsbdkjasbnd\")\n",
    "_=os.system('cls')"
   ]
  },
  {
   "cell_type": "code",
   "execution_count": null,
   "metadata": {},
   "outputs": [],
   "source": [
    "print(\"asdfbakjhsbdkjasbnd\")\n",
    "_=os.system('cls')"
   ]
  },
  {
   "cell_type": "code",
   "execution_count": null,
   "metadata": {},
   "outputs": [],
   "source": []
  }
 ],
 "metadata": {
  "kernelspec": {
   "display_name": "Python 3",
   "language": "python",
   "name": "python3"
  },
  "language_info": {
   "codemirror_mode": {
    "name": "ipython",
    "version": 3
   },
   "file_extension": ".py",
   "mimetype": "text/x-python",
   "name": "python",
   "nbconvert_exporter": "python",
   "pygments_lexer": "ipython3",
   "version": "3.7.6"
  }
 },
 "nbformat": 4,
 "nbformat_minor": 4
}
