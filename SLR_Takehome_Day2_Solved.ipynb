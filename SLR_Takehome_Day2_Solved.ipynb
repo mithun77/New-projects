{
 "cells": [
  {
   "cell_type": "markdown",
   "metadata": {
    "colab_type": "text",
    "id": "WWpgBGb8XyMc"
   },
   "source": [
    "<table align=\"center\" width=100%>\n",
    "    <tr>\n",
    "        <td width=\"15%\">\n",
    "            <img src=\"homework.png\">\n",
    "        </td>\n",
    "        <td>\n",
    "            <div align=\"center\">\n",
    "                <font color=\"#21618C\" size=8px>\n",
    "                    <b> Take-Home <br>(Day 2)\n",
    "                    </b>\n",
    "                </font>\n",
    "            </div>\n",
    "        </td>\n",
    "    </tr>\n",
    "</table>"
   ]
  },
  {
   "cell_type": "markdown",
   "metadata": {
    "colab_type": "text",
    "id": "7qfPaLd8XyMd"
   },
   "source": [
    "#### Import the required libraries"
   ]
  },
  {
   "cell_type": "code",
   "execution_count": 1,
   "metadata": {
    "colab": {
     "base_uri": "https://localhost:8080/",
     "height": 71
    },
    "colab_type": "code",
    "executionInfo": {
     "elapsed": 2757,
     "status": "ok",
     "timestamp": 1599563440040,
     "user": {
      "displayName": "Mahesh Anand",
      "photoUrl": "https://lh3.googleusercontent.com/a-/AOh14GiAxRvO4nLPhI4SJLaIoUVmhr8lm1tddyCLyKOj=s64",
      "userId": "06788086636039591358"
     },
     "user_tz": -330
    },
    "id": "uZ8oPmntXyMe",
    "outputId": "40419a3f-1050-4d85-c7b3-052580da149f"
   },
   "outputs": [],
   "source": [
    "# import 'Pandas' \n",
    "import pandas as pd \n",
    "\n",
    "# import 'Numpy' \n",
    "import numpy as np\n",
    "\n",
    "# import subpackage of Matplotlib\n",
    "import matplotlib.pyplot as plt\n",
    "\n",
    "# import 'Seaborn' \n",
    "import seaborn as sns\n",
    "\n",
    "from mlxtend.feature_selection import SequentialFeatureSelector\n",
    "# to suppress warnings \n",
    "from warnings import filterwarnings\n",
    "filterwarnings('ignore')\n",
    "\n",
    "# import various functions from statsmodels\n",
    "import statsmodels\n",
    "import statsmodels.api as sm\n",
    "from statsmodels.graphics.gofplots import qqplot\n",
    "\n",
    "# import train-test split\n",
    "from sklearn.model_selection import train_test_split\n",
    "\n",
    "# import functions to perform feature selection\n",
    "from mlxtend.feature_selection import SequentialFeatureSelector as sfs\n",
    "from sklearn.feature_selection import RFE\n",
    "\n",
    "# import function to perform linear regression\n",
    "from sklearn.linear_model import LinearRegression\n",
    "\n",
    "# import function to perform cross validation\n",
    "from sklearn.model_selection import cross_val_score\n",
    "\n",
    "# set the plot size using 'rcParams'\n",
    "# once the plot size is set using 'rcParams', it sets the size of all the forthcoming plots in the file\n",
    "# pass width and height in inches to 'figure.figsize' \n",
    "plt.rcParams['figure.figsize'] = [15,8]"
   ]
  },
  {
   "cell_type": "code",
   "execution_count": 2,
   "metadata": {},
   "outputs": [],
   "source": [
    "# pip install mlxtend --user\n",
    "\n",
    "# to install mlxtend"
   ]
  },
  {
   "cell_type": "code",
   "execution_count": 3,
   "metadata": {
    "colab": {
     "base_uri": "https://localhost:8080/",
     "height": 123
    },
    "colab_type": "code",
    "executionInfo": {
     "elapsed": 30385,
     "status": "ok",
     "timestamp": 1599563467685,
     "user": {
      "displayName": "Mahesh Anand",
      "photoUrl": "https://lh3.googleusercontent.com/a-/AOh14GiAxRvO4nLPhI4SJLaIoUVmhr8lm1tddyCLyKOj=s64",
      "userId": "06788086636039591358"
     },
     "user_tz": -330
    },
    "id": "HK09iKEiYDQN",
    "outputId": "0a74a765-d005-44e6-fa4a-fc5c6b49cb1d"
   },
   "outputs": [],
   "source": [
    "#from google.colab import drive\n",
    "#drive.mount('/content/drive')"
   ]
  },
  {
   "cell_type": "markdown",
   "metadata": {
    "colab_type": "text",
    "id": "C3Z75opyXyMh"
   },
   "source": [
    "#### Read the data\n",
    "\n",
    "Load the csv file and print the first five observations."
   ]
  },
  {
   "cell_type": "code",
   "execution_count": 4,
   "metadata": {
    "colab": {
     "base_uri": "https://localhost:8080/",
     "height": 203
    },
    "colab_type": "code",
    "executionInfo": {
     "elapsed": 1643,
     "status": "ok",
     "timestamp": 1599563480850,
     "user": {
      "displayName": "Mahesh Anand",
      "photoUrl": "https://lh3.googleusercontent.com/a-/AOh14GiAxRvO4nLPhI4SJLaIoUVmhr8lm1tddyCLyKOj=s64",
      "userId": "06788086636039591358"
     },
     "user_tz": -330
    },
    "id": "dkMIIyiZXyMi",
    "outputId": "f5aa37e4-ded4-49d3-e1a4-a8455e6c0c74"
   },
   "outputs": [
    {
     "data": {
      "text/html": [
       "<div>\n",
       "<style scoped>\n",
       "    .dataframe tbody tr th:only-of-type {\n",
       "        vertical-align: middle;\n",
       "    }\n",
       "\n",
       "    .dataframe tbody tr th {\n",
       "        vertical-align: top;\n",
       "    }\n",
       "\n",
       "    .dataframe thead th {\n",
       "        text-align: right;\n",
       "    }\n",
       "</style>\n",
       "<table border=\"1\" class=\"dataframe\">\n",
       "  <thead>\n",
       "    <tr style=\"text-align: right;\">\n",
       "      <th></th>\n",
       "      <th>carat</th>\n",
       "      <th>cut</th>\n",
       "      <th>color</th>\n",
       "      <th>depth</th>\n",
       "      <th>table</th>\n",
       "      <th>price</th>\n",
       "      <th>x</th>\n",
       "      <th>y</th>\n",
       "      <th>z</th>\n",
       "    </tr>\n",
       "  </thead>\n",
       "  <tbody>\n",
       "    <tr>\n",
       "      <td>0</td>\n",
       "      <td>0.30</td>\n",
       "      <td>Good</td>\n",
       "      <td>F</td>\n",
       "      <td>61.1</td>\n",
       "      <td>61.0</td>\n",
       "      <td>682</td>\n",
       "      <td>4.29</td>\n",
       "      <td>4.32</td>\n",
       "      <td>2.63</td>\n",
       "    </tr>\n",
       "    <tr>\n",
       "      <td>1</td>\n",
       "      <td>0.72</td>\n",
       "      <td>Ideal</td>\n",
       "      <td>H</td>\n",
       "      <td>62.0</td>\n",
       "      <td>56.0</td>\n",
       "      <td>2443</td>\n",
       "      <td>5.80</td>\n",
       "      <td>5.74</td>\n",
       "      <td>3.58</td>\n",
       "    </tr>\n",
       "    <tr>\n",
       "      <td>2</td>\n",
       "      <td>1.71</td>\n",
       "      <td>Premium</td>\n",
       "      <td>J</td>\n",
       "      <td>62.9</td>\n",
       "      <td>58.0</td>\n",
       "      <td>8848</td>\n",
       "      <td>7.64</td>\n",
       "      <td>7.58</td>\n",
       "      <td>4.79</td>\n",
       "    </tr>\n",
       "    <tr>\n",
       "      <td>3</td>\n",
       "      <td>1.01</td>\n",
       "      <td>Premium</td>\n",
       "      <td>E</td>\n",
       "      <td>59.2</td>\n",
       "      <td>59.0</td>\n",
       "      <td>7287</td>\n",
       "      <td>6.67</td>\n",
       "      <td>6.60</td>\n",
       "      <td>3.93</td>\n",
       "    </tr>\n",
       "    <tr>\n",
       "      <td>4</td>\n",
       "      <td>0.52</td>\n",
       "      <td>Ideal</td>\n",
       "      <td>D</td>\n",
       "      <td>62.7</td>\n",
       "      <td>56.0</td>\n",
       "      <td>1720</td>\n",
       "      <td>5.17</td>\n",
       "      <td>5.14</td>\n",
       "      <td>3.23</td>\n",
       "    </tr>\n",
       "  </tbody>\n",
       "</table>\n",
       "</div>"
      ],
      "text/plain": [
       "   carat      cut color  depth  table  price     x     y     z\n",
       "0   0.30     Good     F   61.1   61.0    682  4.29  4.32  2.63\n",
       "1   0.72    Ideal     H   62.0   56.0   2443  5.80  5.74  3.58\n",
       "2   1.71  Premium     J   62.9   58.0   8848  7.64  7.58  4.79\n",
       "3   1.01  Premium     E   59.2   59.0   7287  6.67  6.60  3.93\n",
       "4   0.52    Ideal     D   62.7   56.0   1720  5.17  5.14  3.23"
      ]
     },
     "execution_count": 4,
     "metadata": {},
     "output_type": "execute_result"
    }
   ],
   "source": [
    "# read the data\n",
    "df_diamond = pd.read_csv(\"diamond_data.csv\")\n",
    "\n",
    "# display the first five rows of the data\n",
    "df_diamond.head()"
   ]
  },
  {
   "cell_type": "code",
   "execution_count": 5,
   "metadata": {
    "colab": {},
    "colab_type": "code",
    "executionInfo": {
     "elapsed": 1161,
     "status": "ok",
     "timestamp": 1599563697258,
     "user": {
      "displayName": "Mahesh Anand",
      "photoUrl": "https://lh3.googleusercontent.com/a-/AOh14GiAxRvO4nLPhI4SJLaIoUVmhr8lm1tddyCLyKOj=s64",
      "userId": "06788086636039591358"
     },
     "user_tz": -330
    },
    "id": "2aPWO0QkbJgB"
   },
   "outputs": [],
   "source": [
    "from scipy.stats import f_oneway"
   ]
  },
  {
   "cell_type": "code",
   "execution_count": 6,
   "metadata": {},
   "outputs": [
    {
     "data": {
      "text/plain": [
       "Ideal        611\n",
       "Premium      389\n",
       "Very Good    358\n",
       "Good         148\n",
       "Fair          41\n",
       "Name: cut, dtype: int64"
      ]
     },
     "execution_count": 6,
     "metadata": {},
     "output_type": "execute_result"
    }
   ],
   "source": [
    "df_diamond['cut'].value_counts()"
   ]
  },
  {
   "cell_type": "code",
   "execution_count": 7,
   "metadata": {
    "colab": {},
    "colab_type": "code",
    "executionInfo": {
     "elapsed": 1220,
     "status": "ok",
     "timestamp": 1599563847107,
     "user": {
      "displayName": "Mahesh Anand",
      "photoUrl": "https://lh3.googleusercontent.com/a-/AOh14GiAxRvO4nLPhI4SJLaIoUVmhr8lm1tddyCLyKOj=s64",
      "userId": "06788086636039591358"
     },
     "user_tz": -330
    },
    "id": "Cv9M0aBnbRG0"
   },
   "outputs": [],
   "source": [
    "G=df_diamond.groupby('cut')\n",
    "G1=G.get_group('Ideal')\n",
    "G2=G.get_group('Premium')\n",
    "G3=G.get_group('Very Good')\n",
    "G4=G.get_group('Good')\n",
    "G5=G.get_group('Fair')"
   ]
  },
  {
   "cell_type": "code",
   "execution_count": 8,
   "metadata": {
    "colab": {
     "base_uri": "https://localhost:8080/",
     "height": 34
    },
    "colab_type": "code",
    "executionInfo": {
     "elapsed": 1160,
     "status": "ok",
     "timestamp": 1599563887055,
     "user": {
      "displayName": "Mahesh Anand",
      "photoUrl": "https://lh3.googleusercontent.com/a-/AOh14GiAxRvO4nLPhI4SJLaIoUVmhr8lm1tddyCLyKOj=s64",
      "userId": "06788086636039591358"
     },
     "user_tz": -330
    },
    "id": "LRmIX-bNb1kE",
    "outputId": "c9a27ff0-bf11-4c75-ac78-677e3c8c50dc"
   },
   "outputs": [
    {
     "data": {
      "text/plain": [
       "F_onewayResult(statistic=5.971831564491989, pvalue=9.09075898329032e-05)"
      ]
     },
     "execution_count": 8,
     "metadata": {},
     "output_type": "execute_result"
    }
   ],
   "source": [
    "f_oneway(G1['price'],G2['price'],G3['price'],G4['price'],G5['price'])"
   ]
  },
  {
   "cell_type": "code",
   "execution_count": 9,
   "metadata": {
    "colab": {
     "base_uri": "https://localhost:8080/",
     "height": 171
    },
    "colab_type": "code",
    "executionInfo": {
     "elapsed": 1193,
     "status": "ok",
     "timestamp": 1599564028725,
     "user": {
      "displayName": "Mahesh Anand",
      "photoUrl": "https://lh3.googleusercontent.com/a-/AOh14GiAxRvO4nLPhI4SJLaIoUVmhr8lm1tddyCLyKOj=s64",
      "userId": "06788086636039591358"
     },
     "user_tz": -330
    },
    "id": "9nIGe9--cCHa",
    "outputId": "a034d587-7536-4838-8cb9-5902858be67e"
   },
   "outputs": [
    {
     "data": {
      "text/plain": [
       "count      389.000000\n",
       "mean      4631.156812\n",
       "std       4301.813540\n",
       "min        449.000000\n",
       "25%       1125.000000\n",
       "50%       3376.000000\n",
       "75%       6129.000000\n",
       "max      18439.000000\n",
       "Name: price, dtype: float64"
      ]
     },
     "execution_count": 9,
     "metadata": {},
     "output_type": "execute_result"
    }
   ],
   "source": [
    "G2['price'].describe()"
   ]
  },
  {
   "cell_type": "code",
   "execution_count": 10,
   "metadata": {
    "colab": {
     "base_uri": "https://localhost:8080/",
     "height": 154
    },
    "colab_type": "code",
    "executionInfo": {
     "elapsed": 1145,
     "status": "ok",
     "timestamp": 1599564086582,
     "user": {
      "displayName": "Mahesh Anand",
      "photoUrl": "https://lh3.googleusercontent.com/a-/AOh14GiAxRvO4nLPhI4SJLaIoUVmhr8lm1tddyCLyKOj=s64",
      "userId": "06788086636039591358"
     },
     "user_tz": -330
    },
    "id": "f1KuZmG2bewP",
    "outputId": "74a89c6e-330f-4bff-c534-af26af3d054e"
   },
   "outputs": [
    {
     "data": {
      "text/plain": [
       "G    317\n",
       "E    281\n",
       "F    274\n",
       "H    244\n",
       "D    206\n",
       "I    141\n",
       "J     84\n",
       "Name: color, dtype: int64"
      ]
     },
     "execution_count": 10,
     "metadata": {},
     "output_type": "execute_result"
    }
   ],
   "source": [
    "df_diamond['color'].value_counts()"
   ]
  },
  {
   "cell_type": "code",
   "execution_count": 11,
   "metadata": {
    "colab": {
     "base_uri": "https://localhost:8080/",
     "height": 318
    },
    "colab_type": "code",
    "executionInfo": {
     "elapsed": 1275,
     "status": "ok",
     "timestamp": 1599564677790,
     "user": {
      "displayName": "Mahesh Anand",
      "photoUrl": "https://lh3.googleusercontent.com/a-/AOh14GiAxRvO4nLPhI4SJLaIoUVmhr8lm1tddyCLyKOj=s64",
      "userId": "06788086636039591358"
     },
     "user_tz": -330
    },
    "id": "YMcL425Me5vu",
    "outputId": "3e9c9576-d5e6-4695-b1e9-51dde42ecf1c",
    "scrolled": true
   },
   "outputs": [
    {
     "data": {
      "text/plain": [
       "<matplotlib.axes._subplots.AxesSubplot at 0x20c22888308>"
      ]
     },
     "execution_count": 11,
     "metadata": {},
     "output_type": "execute_result"
    },
    {
     "data": {
      "text/plain": [
       "<Figure size 360x144 with 0 Axes>"
      ]
     },
     "metadata": {},
     "output_type": "display_data"
    },
    {
     "data": {
      "image/png": "[encoded data removed]",
      "text/plain": [
       "<Figure size 432x288 with 1 Axes>"
      ]
     },
     "metadata": {
      "needs_background": "light"
     },
     "output_type": "display_data"
    }
   ],
   "source": [
    "plt.figure(figsize = (5,2))\n",
    "df_diamond.boxplot(column='price',by='color')"
   ]
  },
  {
   "cell_type": "code",
   "execution_count": 12,
   "metadata": {
    "colab": {
     "base_uri": "https://localhost:8080/",
     "height": 318
    },
    "colab_type": "code",
    "executionInfo": {
     "elapsed": 1490,
     "status": "ok",
     "timestamp": 1599564733256,
     "user": {
      "displayName": "Mahesh Anand",
      "photoUrl": "https://lh3.googleusercontent.com/a-/AOh14GiAxRvO4nLPhI4SJLaIoUVmhr8lm1tddyCLyKOj=s64",
      "userId": "06788086636039591358"
     },
     "user_tz": -330
    },
    "id": "rz3NZdBffLng",
    "outputId": "381b4ed6-91e1-41ff-9921-24a08e20448e",
    "scrolled": true
   },
   "outputs": [
    {
     "data": {
      "text/plain": [
       "<matplotlib.axes._subplots.AxesSubplot at 0x20c22b5e348>"
      ]
     },
     "execution_count": 12,
     "metadata": {},
     "output_type": "execute_result"
    },
    {
     "data": {
      "image/png": "[encoded data removed]",
      "text/plain": [
       "<Figure size 432x288 with 1 Axes>"
      ]
     },
     "metadata": {
      "needs_background": "light"
     },
     "output_type": "display_data"
    }
   ],
   "source": [
    "df_diamond.boxplot(column='price',by='cut')"
   ]
  },
  {
   "cell_type": "code",
   "execution_count": 13,
   "metadata": {
    "colab": {
     "base_uri": "https://localhost:8080/",
     "height": 264
    },
    "colab_type": "code",
    "executionInfo": {
     "elapsed": 1482,
     "status": "ok",
     "timestamp": 1599563578796,
     "user": {
      "displayName": "Mahesh Anand",
      "photoUrl": "https://lh3.googleusercontent.com/a-/AOh14GiAxRvO4nLPhI4SJLaIoUVmhr8lm1tddyCLyKOj=s64",
      "userId": "06788086636039591358"
     },
     "user_tz": -330
    },
    "id": "aeon0ZKvaxB8",
    "outputId": "b896cb79-2478-48fe-81b9-5b4a9a06c716"
   },
   "outputs": [
    {
     "data": {
      "text/html": [
       "<div>\n",
       "<style scoped>\n",
       "    .dataframe tbody tr th:only-of-type {\n",
       "        vertical-align: middle;\n",
       "    }\n",
       "\n",
       "    .dataframe tbody tr th {\n",
       "        vertical-align: top;\n",
       "    }\n",
       "\n",
       "    .dataframe thead th {\n",
       "        text-align: right;\n",
       "    }\n",
       "</style>\n",
       "<table border=\"1\" class=\"dataframe\">\n",
       "  <thead>\n",
       "    <tr style=\"text-align: right;\">\n",
       "      <th></th>\n",
       "      <th>carat</th>\n",
       "      <th>depth</th>\n",
       "      <th>table</th>\n",
       "      <th>price</th>\n",
       "      <th>x</th>\n",
       "      <th>y</th>\n",
       "      <th>z</th>\n",
       "    </tr>\n",
       "  </thead>\n",
       "  <tbody>\n",
       "    <tr>\n",
       "      <td>carat</td>\n",
       "      <td>1.000000</td>\n",
       "      <td>0.012993</td>\n",
       "      <td>0.184338</td>\n",
       "      <td>0.928381</td>\n",
       "      <td>0.978489</td>\n",
       "      <td>0.977853</td>\n",
       "      <td>0.978073</td>\n",
       "    </tr>\n",
       "    <tr>\n",
       "      <td>depth</td>\n",
       "      <td>0.012993</td>\n",
       "      <td>1.000000</td>\n",
       "      <td>-0.272881</td>\n",
       "      <td>0.003614</td>\n",
       "      <td>-0.044872</td>\n",
       "      <td>-0.048804</td>\n",
       "      <td>0.077009</td>\n",
       "    </tr>\n",
       "    <tr>\n",
       "      <td>table</td>\n",
       "      <td>0.184338</td>\n",
       "      <td>-0.272881</td>\n",
       "      <td>1.000000</td>\n",
       "      <td>0.124544</td>\n",
       "      <td>0.200597</td>\n",
       "      <td>0.194526</td>\n",
       "      <td>0.162856</td>\n",
       "    </tr>\n",
       "    <tr>\n",
       "      <td>price</td>\n",
       "      <td>0.928381</td>\n",
       "      <td>0.003614</td>\n",
       "      <td>0.124544</td>\n",
       "      <td>1.000000</td>\n",
       "      <td>0.888647</td>\n",
       "      <td>0.889579</td>\n",
       "      <td>0.887618</td>\n",
       "    </tr>\n",
       "    <tr>\n",
       "      <td>x</td>\n",
       "      <td>0.978489</td>\n",
       "      <td>-0.044872</td>\n",
       "      <td>0.200597</td>\n",
       "      <td>0.888647</td>\n",
       "      <td>1.000000</td>\n",
       "      <td>0.998768</td>\n",
       "      <td>0.991913</td>\n",
       "    </tr>\n",
       "    <tr>\n",
       "      <td>y</td>\n",
       "      <td>0.977853</td>\n",
       "      <td>-0.048804</td>\n",
       "      <td>0.194526</td>\n",
       "      <td>0.889579</td>\n",
       "      <td>0.998768</td>\n",
       "      <td>1.000000</td>\n",
       "      <td>0.991579</td>\n",
       "    </tr>\n",
       "    <tr>\n",
       "      <td>z</td>\n",
       "      <td>0.978073</td>\n",
       "      <td>0.077009</td>\n",
       "      <td>0.162856</td>\n",
       "      <td>0.887618</td>\n",
       "      <td>0.991913</td>\n",
       "      <td>0.991579</td>\n",
       "      <td>1.000000</td>\n",
       "    </tr>\n",
       "  </tbody>\n",
       "</table>\n",
       "</div>"
      ],
      "text/plain": [
       "          carat     depth     table     price         x         y         z\n",
       "carat  1.000000  0.012993  0.184338  0.928381  0.978489  0.977853  0.978073\n",
       "depth  0.012993  1.000000 -0.272881  0.003614 -0.044872 -0.048804  0.077009\n",
       "table  0.184338 -0.272881  1.000000  0.124544  0.200597  0.194526  0.162856\n",
       "price  0.928381  0.003614  0.124544  1.000000  0.888647  0.889579  0.887618\n",
       "x      0.978489 -0.044872  0.200597  0.888647  1.000000  0.998768  0.991913\n",
       "y      0.977853 -0.048804  0.194526  0.889579  0.998768  1.000000  0.991579\n",
       "z      0.978073  0.077009  0.162856  0.887618  0.991913  0.991579  1.000000"
      ]
     },
     "execution_count": 13,
     "metadata": {},
     "output_type": "execute_result"
    }
   ],
   "source": [
    "df_diamond.corr()"
   ]
  },
  {
   "cell_type": "markdown",
   "metadata": {
    "colab_type": "text",
    "id": "wa0jg5TKXyMl"
   },
   "source": [
    "Our objective is to predict the price of the diamond."
   ]
  },
  {
   "cell_type": "markdown",
   "metadata": {
    "colab_type": "text",
    "id": "Z48Fi-wDXyMm"
   },
   "source": [
    "**The data definition is as follows:** <br>\n",
    "\n",
    "**carat**: Weight of the diamond\n",
    "\n",
    "**cut**: Quality of the cut (Fair, Good, Very Good, Premium, Ideal)\n",
    "\n",
    "**color**: Diamond color\n",
    "\n",
    "**depth**: Total depth percentage (it is calculated as: 2 * z / (x + y))\n",
    "\n",
    "**table**: Width of top of the diamond relative to the widest point \n",
    "\n",
    "**price**: Price of a diamond in US dollars (target/dependent variable)\n",
    "\n",
    "**x**: Length of a diamond in mm\n",
    "\n",
    "**y**: Width of a diamond in mm\n",
    "\n",
    "**z**: Depth of a diamond in mm"
   ]
  },
  {
   "cell_type": "markdown",
   "metadata": {
    "colab_type": "text",
    "id": "cGhcMQp2XyMm"
   },
   "source": [
    "### Let's begin with some hands-on practice exercises"
   ]
  },
  {
   "cell_type": "markdown",
   "metadata": {
    "colab_type": "text",
    "id": "jN7h_pNVXyMn"
   },
   "source": [
    "<table align=\"left\">\n",
    "    <tr>\n",
    "        <td width=\"6%\">\n",
    "            <img src=\"question_icon.png\">\n",
    "        </td>\n",
    "        <td>\n",
    "            <div align=\"left\", style=\"font-size:120%\">\n",
    "                <font color=\"#21618C\">\n",
    "                    <b>1. Is the variable representing the width of a diamond skewed? If yes, apply an appropriate technique to make the distribution less skewed </b>\n",
    "                </font>\n",
    "            </div>\n",
    "        </td>\n",
    "    </tr>\n",
    "</table>"
   ]
  },
  {
   "cell_type": "code",
   "execution_count": 14,
   "metadata": {
    "colab": {
     "base_uri": "https://localhost:8080/",
     "height": 537
    },
    "colab_type": "code",
    "executionInfo": {
     "elapsed": 995,
     "status": "ok",
     "timestamp": 1599529458532,
     "user": {
      "displayName": "Mahesh Anand",
      "photoUrl": "https://lh3.googleusercontent.com/a-/AOh14GiAxRvO4nLPhI4SJLaIoUVmhr8lm1tddyCLyKOj=s64",
      "userId": "06788086636039591358"
     },
     "user_tz": -330
    },
    "id": "asRYNl4EXyMn",
    "outputId": "f1bc0960-a9a3-45bd-8727-dc4523c9f8db",
    "scrolled": false
   },
   "outputs": [
    {
     "name": "stdout",
     "output_type": "stream",
     "text": [
      "Skewness:  0.4383878452014628\n"
     ]
    },
    {
     "data": {
      "image/png": "[encoded data removed]",
      "text/plain": [
       "<Figure size 1080x576 with 1 Axes>"
      ]
     },
     "metadata": {
      "needs_background": "light"
     },
     "output_type": "display_data"
    }
   ],
   "source": [
    "# set the plot size using figure()\n",
    "# pass width and height in inches to 'figsize' \n",
    "plt.figure(figsize = (15,8))\n",
    "\n",
    "# check the skewness of variable y by plotting distplot \n",
    "sns.distplot(df_diamond.y)\n",
    "\n",
    "# set plot and axes labels\n",
    "# set text size using 'fontsize'\n",
    "plt.title('Distribution of Width of a Diamond', fontsize = 15)\n",
    "plt.xlabel('Width of a Diamond', fontsize = 15)\n",
    "plt.ylabel('Density', fontsize = 15)\n",
    "\n",
    "# check the skewness numerically\n",
    "# print the skewness of the variable \n",
    "print(\"Skewness: \", df_diamond.y.skew())"
   ]
  },
  {
   "cell_type": "markdown",
   "metadata": {
    "colab_type": "text",
    "id": "-UKielrLXyMp"
   },
   "source": [
    "Apply the log transformation to the variable 'y'."
   ]
  },
  {
   "cell_type": "code",
   "execution_count": 15,
   "metadata": {
    "colab": {
     "base_uri": "https://localhost:8080/",
     "height": 34
    },
    "colab_type": "code",
    "executionInfo": {
     "elapsed": 1245,
     "status": "ok",
     "timestamp": 1599564231068,
     "user": {
      "displayName": "Mahesh Anand",
      "photoUrl": "https://lh3.googleusercontent.com/a-/AOh14GiAxRvO4nLPhI4SJLaIoUVmhr8lm1tddyCLyKOj=s64",
      "userId": "06788086636039591358"
     },
     "user_tz": -330
    },
    "id": "ktbPE191XyMq",
    "outputId": "4fe8b969-97a8-4b54-dcaf-8318c023e63d"
   },
   "outputs": [
    {
     "name": "stdout",
     "output_type": "stream",
     "text": [
      "Skewness:  0.15322643692701352\n"
     ]
    }
   ],
   "source": [
    "# apply log transformation\n",
    "trans_y = np.log(df_diamond.y)\n",
    "\n",
    "# check the skewness numerically\n",
    "# print the skewness of the variable \n",
    "print(\"Skewness: \", trans_y.skew())"
   ]
  },
  {
   "cell_type": "markdown",
   "metadata": {
    "colab_type": "text",
    "id": "CG7n9MRMXyMs"
   },
   "source": [
    "The coefficient of skewness shows that the skewness of the variable is reduced."
   ]
  },
  {
   "cell_type": "markdown",
   "metadata": {
    "colab_type": "text",
    "id": "xvLEO1mUXyMs"
   },
   "source": [
    "<table align=\"left\">\n",
    "    <tr>\n",
    "        <td width=\"6%\">\n",
    "            <img src=\"question_icon.png\">\n",
    "        </td>\n",
    "        <td>\n",
    "            <div align=\"left\", style=\"font-size:120%\">\n",
    "                <font color=\"#21618C\">\n",
    "                    <b>2. Build a full model and check whether the errors have a serial correlation or not</b>\n",
    "                </font>\n",
    "            </div>\n",
    "        </td>\n",
    "    </tr>\n",
    "</table>"
   ]
  },
  {
   "cell_type": "code",
   "execution_count": 16,
   "metadata": {
    "colab": {
     "base_uri": "https://localhost:8080/",
     "height": 737
    },
    "colab_type": "code",
    "executionInfo": {
     "elapsed": 1239,
     "status": "ok",
     "timestamp": 1599564610855,
     "user": {
      "displayName": "Mahesh Anand",
      "photoUrl": "https://lh3.googleusercontent.com/a-/AOh14GiAxRvO4nLPhI4SJLaIoUVmhr8lm1tddyCLyKOj=s64",
      "userId": "06788086636039591358"
     },
     "user_tz": -330
    },
    "id": "bfwDz0TTXyMt",
    "outputId": "cc6eb858-6145-4d6d-8ab7-dd00ae5d2b25",
    "scrolled": false
   },
   "outputs": [
    {
     "name": "stdout",
     "output_type": "stream",
     "text": [
      "                            OLS Regression Results                            \n",
      "==============================================================================\n",
      "Dep. Variable:                  price   R-squared:                       0.893\n",
      "Model:                            OLS   Adj. R-squared:                  0.891\n",
      "Method:                 Least Squares   F-statistic:                     635.2\n",
      "Date:                Fri, 18 Sep 2020   Prob (F-statistic):               0.00\n",
      "Time:                        13:03:26   Log-Likelihood:                -10691.\n",
      "No. Observations:                1237   AIC:                         2.142e+04\n",
      "Df Residuals:                    1220   BIC:                         2.150e+04\n",
      "Df Model:                          16                                         \n",
      "Covariance Type:            nonrobust                                         \n",
      "=================================================================================\n",
      "                    coef    std err          t      P>|t|      [0.025      0.975]\n",
      "---------------------------------------------------------------------------------\n",
      "const         -2.286e+04   9557.212     -2.392      0.017   -4.16e+04   -4111.730\n",
      "carat          1.298e+04    415.593     31.240      0.000    1.22e+04    1.38e+04\n",
      "depth           462.3432    150.168      3.079      0.002     167.727     756.960\n",
      "table           -29.1244     23.115     -1.260      0.208     -74.474      16.225\n",
      "x              -640.8957    998.510     -0.642      0.521   -2599.882    1318.091\n",
      "y              3992.7032   1189.392      3.357      0.001    1659.223    6326.184\n",
      "z             -8551.3086   2424.221     -3.527      0.000   -1.33e+04   -3795.204\n",
      "cut_Good        533.3744    272.885      1.955      0.051      -2.002    1068.751\n",
      "cut_Ideal      1226.3780    270.510      4.534      0.000     695.661    1757.095\n",
      "cut_Premium     908.8887    257.138      3.535      0.000     404.407    1413.371\n",
      "cut_Very Good   913.9185    263.970      3.462      0.001     396.034    1431.803\n",
      "color_E         -26.9259    144.806     -0.186      0.853    -311.022     257.170\n",
      "color_F         161.7630    144.410      1.120      0.263    -121.556     445.082\n",
      "color_G         -51.2989    140.480     -0.365      0.715    -326.907     224.309\n",
      "color_H        -652.8711    149.279     -4.373      0.000    -945.743    -359.999\n",
      "color_I       -1153.3894    172.258     -6.696      0.000   -1491.344    -815.434\n",
      "color_J       -1825.6926    204.403     -8.932      0.000   -2226.713   -1424.672\n",
      "==============================================================================\n",
      "Omnibus:                      397.848   Durbin-Watson:                   1.970\n",
      "Prob(Omnibus):                  0.000   Jarque-Bera (JB):             5012.487\n",
      "Skew:                           1.119   Prob(JB):                         0.00\n",
      "Kurtosis:                      12.604   Cond. No.                     2.14e+04\n",
      "==============================================================================\n",
      "\n",
      "Warnings:\n",
      "[1] Standard Errors assume that the covariance matrix of the errors is correctly specified.\n",
      "[2] The condition number is large, 2.14e+04. This might indicate that there are\n",
      "strong multicollinearity or other numerical problems.\n"
     ]
    }
   ],
   "source": [
    "# consider the independent variables\n",
    "# select_dtypes: selects the variable having specified datatype\n",
    "# include: includes the variables with specified datatype\n",
    "# drop(): drops specified column(s)/row(s) from the dataframe\n",
    "# axis: specifies whether to drop labels from index or columns; use 1 for columns and 0 for index\n",
    "\n",
    "df_num = df_diamond.select_dtypes(include=np.number).drop([\"price\"],axis=1)\n",
    "\n",
    "# consider all the categorical variables in the data\n",
    "# select_dtypes: selects the variable having specified datatype\n",
    "# include: includes the variables with specified datatype\n",
    "\n",
    "df_cat = df_diamond.select_dtypes(include=\"object\")\n",
    "\n",
    "# convert the categorical variable to dummy variable\n",
    "# get_dummies(): converts the variable to categorical variable\n",
    "# drop_first=True: indicates n-1 dummy enoding; if set to false indicated one-hot encoding\n",
    "\n",
    "dummy_variables = pd.get_dummies(df_cat, drop_first=True)\n",
    "\n",
    "# concatenate the numerical and dummy variables\n",
    "# axis: specifies whether to drop labels from index or columns; use 1 for columns and 0 for index\n",
    "\n",
    "X = pd.concat([df_num, dummy_variables],axis=1)\n",
    "\n",
    "# consider the dependent variable\n",
    "\n",
    "y = df_diamond[\"price\"]\n",
    "\n",
    "# split data into train subset and test subset\n",
    "# set 'random_state' to generate the same dataset each time you run the code \n",
    "# 'test_size' returns the proportion of data to be included in the testing set\n",
    "\n",
    "X_train, X_test, y_train, y_test = train_test_split(X, y, random_state=1, test_size = 0.2)\n",
    "\n",
    "# fit a full model with an intercept using fit()\n",
    "# add_constant(): adds the intercept term to the model\n",
    "\n",
    "MLR_model_full = sm.OLS(y_train, sm.add_constant(X_train)).fit()\n",
    "\n",
    "# print the summary output\n",
    "\n",
    "print(MLR_model_full.summary())"
   ]
  },
  {
   "cell_type": "markdown",
   "metadata": {
    "colab_type": "text",
    "id": "yM4lZm2lXyMv"
   },
   "source": [
    "From the above summary, we can observe that the value obtained from the Durbin-Watson test statistic is close to 2 (=1.970). Thus, we conclude that there is no autocorrelation."
   ]
  },
  {
   "cell_type": "markdown",
   "metadata": {
    "colab_type": "text",
    "id": "H86TBv3eXyMw"
   },
   "source": [
    "<table align=\"left\">\n",
    "    <tr>\n",
    "        <td width=\"6%\">\n",
    "            <img src=\"question_icon.png\">\n",
    "        </td>\n",
    "        <td>\n",
    "            <div align=\"left\", style=\"font-size:120%\">\n",
    "                <font color=\"#21618C\">\n",
    "                    <b>3. Add the features one-by-one to obtain the set of features which explains the price of a diamond with the highest accuracy\n",
    "                    </b>\n",
    "                </font>\n",
    "            </div>\n",
    "        </td>\n",
    "    </tr>\n",
    "</table>"
   ]
  },
  {
   "cell_type": "code",
   "execution_count": 17,
   "metadata": {
    "colab": {
     "base_uri": "https://localhost:8080/",
     "height": 1000
    },
    "colab_type": "code",
    "executionInfo": {
     "elapsed": 2471,
     "status": "ok",
     "timestamp": 1599565094752,
     "user": {
      "displayName": "Mahesh Anand",
      "photoUrl": "https://lh3.googleusercontent.com/a-/AOh14GiAxRvO4nLPhI4SJLaIoUVmhr8lm1tddyCLyKOj=s64",
      "userId": "06788086636039591358"
     },
     "user_tz": -330
    },
    "id": "SVYkiNhIXyMw",
    "outputId": "fffc4a06-7c2d-4873-d00e-d32531c9e9a7"
   },
   "outputs": [
    {
     "name": "stderr",
     "output_type": "stream",
     "text": [
      "[Parallel(n_jobs=1)]: Using backend SequentialBackend with 1 concurrent workers.\n",
      "[Parallel(n_jobs=1)]: Done   1 out of   1 | elapsed:    0.1s remaining:    0.0s\n",
      "[Parallel(n_jobs=1)]: Done  16 out of  16 | elapsed:    0.2s finished\n",
      "\n",
      "[2020-09-18 13:05:23] Features: 1/16 -- score: 0.8584857132589887[Parallel(n_jobs=1)]: Using backend SequentialBackend with 1 concurrent workers.\n",
      "[Parallel(n_jobs=1)]: Done   1 out of   1 | elapsed:    0.0s remaining:    0.0s\n",
      "[Parallel(n_jobs=1)]: Done  15 out of  15 | elapsed:    0.0s finished\n",
      "\n",
      "[2020-09-18 13:05:23] Features: 2/16 -- score: 0.8699556008432495[Parallel(n_jobs=1)]: Using backend SequentialBackend with 1 concurrent workers.\n",
      "[Parallel(n_jobs=1)]: Done   1 out of   1 | elapsed:    0.0s remaining:    0.0s\n",
      "[Parallel(n_jobs=1)]: Done  14 out of  14 | elapsed:    0.1s finished\n",
      "\n",
      "[2020-09-18 13:05:23] Features: 3/16 -- score: 0.8762650424322802[Parallel(n_jobs=1)]: Using backend SequentialBackend with 1 concurrent workers.\n",
      "[Parallel(n_jobs=1)]: Done   1 out of   1 | elapsed:    0.0s remaining:    0.0s\n",
      "[Parallel(n_jobs=1)]: Done  13 out of  13 | elapsed:    0.0s finished\n",
      "\n",
      "[2020-09-18 13:05:23] Features: 4/16 -- score: 0.8793491776277328[Parallel(n_jobs=1)]: Using backend SequentialBackend with 1 concurrent workers.\n",
      "[Parallel(n_jobs=1)]: Done   1 out of   1 | elapsed:    0.0s remaining:    0.0s\n",
      "[Parallel(n_jobs=1)]: Done  12 out of  12 | elapsed:    0.0s finished\n",
      "\n",
      "[2020-09-18 13:05:23] Features: 5/16 -- score: 0.8825973889867026[Parallel(n_jobs=1)]: Using backend SequentialBackend with 1 concurrent workers.\n",
      "[Parallel(n_jobs=1)]: Done   1 out of   1 | elapsed:    0.0s remaining:    0.0s\n",
      "[Parallel(n_jobs=1)]: Done  11 out of  11 | elapsed:    0.0s finished\n",
      "\n",
      "[2020-09-18 13:05:23] Features: 6/16 -- score: 0.8849459193781655[Parallel(n_jobs=1)]: Using backend SequentialBackend with 1 concurrent workers.\n",
      "[Parallel(n_jobs=1)]: Done   1 out of   1 | elapsed:    0.0s remaining:    0.0s\n",
      "[Parallel(n_jobs=1)]: Done  10 out of  10 | elapsed:    0.0s finished\n",
      "\n",
      "[2020-09-18 13:05:24] Features: 7/16 -- score: 0.8854600803098363[Parallel(n_jobs=1)]: Using backend SequentialBackend with 1 concurrent workers.\n",
      "[Parallel(n_jobs=1)]: Done   1 out of   1 | elapsed:    0.0s remaining:    0.0s\n",
      "[Parallel(n_jobs=1)]: Done   9 out of   9 | elapsed:    0.0s finished\n",
      "\n",
      "[2020-09-18 13:05:24] Features: 8/16 -- score: 0.886266181328249[Parallel(n_jobs=1)]: Using backend SequentialBackend with 1 concurrent workers.\n",
      "[Parallel(n_jobs=1)]: Done   1 out of   1 | elapsed:    0.0s remaining:    0.0s\n",
      "[Parallel(n_jobs=1)]: Done   8 out of   8 | elapsed:    0.0s finished\n",
      "\n",
      "[2020-09-18 13:05:24] Features: 9/16 -- score: 0.8864819206505326[Parallel(n_jobs=1)]: Using backend SequentialBackend with 1 concurrent workers.\n",
      "[Parallel(n_jobs=1)]: Done   1 out of   1 | elapsed:    0.0s remaining:    0.0s\n",
      "[Parallel(n_jobs=1)]: Done   7 out of   7 | elapsed:    0.0s finished\n",
      "\n",
      "[2020-09-18 13:05:24] Features: 10/16 -- score: 0.88732097209048[Parallel(n_jobs=1)]: Using backend SequentialBackend with 1 concurrent workers.\n",
      "[Parallel(n_jobs=1)]: Done   1 out of   1 | elapsed:    0.0s remaining:    0.0s\n",
      "[Parallel(n_jobs=1)]: Done   6 out of   6 | elapsed:    0.0s finished\n",
      "\n",
      "[2020-09-18 13:05:24] Features: 11/16 -- score: 0.8876659025289457[Parallel(n_jobs=1)]: Using backend SequentialBackend with 1 concurrent workers.\n",
      "[Parallel(n_jobs=1)]: Done   1 out of   1 | elapsed:    0.0s remaining:    0.0s\n",
      "[Parallel(n_jobs=1)]: Done   5 out of   5 | elapsed:    0.0s finished\n",
      "\n",
      "[2020-09-18 13:05:24] Features: 12/16 -- score: 0.887982112047581[Parallel(n_jobs=1)]: Using backend SequentialBackend with 1 concurrent workers.\n",
      "[Parallel(n_jobs=1)]: Done   1 out of   1 | elapsed:    0.0s remaining:    0.0s\n",
      "[Parallel(n_jobs=1)]: Done   4 out of   4 | elapsed:    0.0s finished\n",
      "\n",
      "[2020-09-18 13:05:24] Features: 13/16 -- score: 0.8882079324599305[Parallel(n_jobs=1)]: Using backend SequentialBackend with 1 concurrent workers.\n",
      "[Parallel(n_jobs=1)]: Done   1 out of   1 | elapsed:    0.0s remaining:    0.0s\n",
      "[Parallel(n_jobs=1)]: Done   3 out of   3 | elapsed:    0.0s finished\n",
      "\n",
      "[2020-09-18 13:05:24] Features: 14/16 -- score: 0.8881058489311698[Parallel(n_jobs=1)]: Using backend SequentialBackend with 1 concurrent workers.\n",
      "[Parallel(n_jobs=1)]: Done   1 out of   1 | elapsed:    0.0s remaining:    0.0s\n",
      "[Parallel(n_jobs=1)]: Done   2 out of   2 | elapsed:    0.0s finished\n",
      "\n",
      "[2020-09-18 13:05:24] Features: 15/16 -- score: 0.8871942591343907[Parallel(n_jobs=1)]: Using backend SequentialBackend with 1 concurrent workers.\n",
      "[Parallel(n_jobs=1)]: Done   1 out of   1 | elapsed:    0.0s remaining:    0.0s\n",
      "[Parallel(n_jobs=1)]: Done   1 out of   1 | elapsed:    0.0s finished\n",
      "\n",
      "[2020-09-18 13:05:24] Features: 16/16 -- score: 0.8862461778845621"
     ]
    },
    {
     "data": {
      "text/plain": [
       "('carat',\n",
       " 'depth',\n",
       " 'table',\n",
       " 'y',\n",
       " 'z',\n",
       " 'cut_Good',\n",
       " 'cut_Ideal',\n",
       " 'cut_Premium',\n",
       " 'cut_Very Good',\n",
       " 'color_F',\n",
       " 'color_H',\n",
       " 'color_I',\n",
       " 'color_J')"
      ]
     },
     "execution_count": 17,
     "metadata": {},
     "output_type": "execute_result"
    }
   ],
   "source": [
    "# consider the independent variables\n",
    "# select_dtypes: selects the variable having specified datatype\n",
    "# include: includes the variables with specified datatype\n",
    "# drop(): drops specified column(s)/row(s) from the dataframe\n",
    "# axis: specifies whether to drop labels from index or columns; use 1 for columns and 0 for index\n",
    "df_num = df_diamond.select_dtypes(include=np.number).drop([\"price\"],axis=1)\n",
    "\n",
    "# consider all the categorical variables in the data\n",
    "# select_dtypes: selects the variable having specified datatype\n",
    "# include: includes the variables with specified datatype\n",
    "df_cat = df_diamond.select_dtypes(include=\"object\")\n",
    "\n",
    "# convert the categorical variable to dummy variable\n",
    "# get_dummies(): converts the variable to categorical variable\n",
    "# drop_first=True: indicates n-1 dummy enoding; if set to false indicated one-hot encoding\n",
    "dummy_variables = pd.get_dummies(df_cat, drop_first=True)\n",
    "\n",
    "# concatenate the numerical and dummy variables\n",
    "# axis: specifies whether to drop labels from index or columns; use 1 for columns and 0 for index\n",
    "X = pd.concat([df_num, dummy_variables],axis=1)\n",
    "\n",
    "# dependent variable\n",
    "y = df_diamond['price']\n",
    "\n",
    "# split data into train subset and test subset\n",
    "# set 'random_state' to generate the same dataset each time you run the code \n",
    "# 'test_size' returns the proportion of data to be included in the testing set\n",
    "X_train, X_test, y_train, y_test = train_test_split(X, y, test_size = 0.20, random_state = 10)\n",
    "\n",
    "# initiate linear regression model to use in feature selection\n",
    "linreg = LinearRegression()\n",
    "\n",
    "# Build step forward selection\n",
    "# pass the regression model to 'estimator'\n",
    "# pass number of required feartures to 'k_features'. 'best' means that a best possible subset will be selected  \n",
    "# 'forward=True' performs forward selection method\n",
    "# 'verbose=2' returns the R-squared scores and the number of features at the corresponding step\n",
    "# 'scoring=r2' considers R-squared score to select the feature\n",
    "linreg_forward = sfs(estimator = linreg, k_features = 'best', forward = True,\n",
    "                     verbose = 2, scoring = 'r2')\n",
    "\n",
    "# fit the step forward selection on training data using fit()\n",
    "sfs_forward = linreg_forward.fit(X_train, y_train)\n",
    "\n",
    "# feature names of the selected feature subsets\n",
    "sfs_forward.k_feature_names_"
   ]
  },
  {
   "cell_type": "code",
   "execution_count": 18,
   "metadata": {
    "colab": {
     "base_uri": "https://localhost:8080/",
     "height": 34
    },
    "colab_type": "code",
    "executionInfo": {
     "elapsed": 1186,
     "status": "ok",
     "timestamp": 1599565401521,
     "user": {
      "displayName": "Mahesh Anand",
      "photoUrl": "https://lh3.googleusercontent.com/a-/AOh14GiAxRvO4nLPhI4SJLaIoUVmhr8lm1tddyCLyKOj=s64",
      "userId": "06788086636039591358"
     },
     "user_tz": -330
    },
    "id": "uqqg20JPhqVP",
    "outputId": "bc583528-84ee-49a9-8a5d-eec865125868"
   },
   "outputs": [
    {
     "data": {
      "text/plain": [
       "(1547, 16)"
      ]
     },
     "execution_count": 18,
     "metadata": {},
     "output_type": "execute_result"
    }
   ],
   "source": [
    "X.shape"
   ]
  },
  {
   "cell_type": "code",
   "execution_count": 19,
   "metadata": {
    "colab": {
     "base_uri": "https://localhost:8080/",
     "height": 34
    },
    "colab_type": "code",
    "executionInfo": {
     "elapsed": 1203,
     "status": "ok",
     "timestamp": 1599565407909,
     "user": {
      "displayName": "Mahesh Anand",
      "photoUrl": "https://lh3.googleusercontent.com/a-/AOh14GiAxRvO4nLPhI4SJLaIoUVmhr8lm1tddyCLyKOj=s64",
      "userId": "06788086636039591358"
     },
     "user_tz": -330
    },
    "id": "fLYV6zNVhtCw",
    "outputId": "96ca1645-2acc-4d2e-ae72-e309613e9411"
   },
   "outputs": [
    {
     "data": {
      "text/plain": [
       "(1547,)"
      ]
     },
     "execution_count": 19,
     "metadata": {},
     "output_type": "execute_result"
    }
   ],
   "source": [
    "y.shape"
   ]
  },
  {
   "cell_type": "code",
   "execution_count": 20,
   "metadata": {
    "colab": {},
    "colab_type": "code",
    "executionInfo": {
     "elapsed": 1168,
     "status": "ok",
     "timestamp": 1599565489743,
     "user": {
      "displayName": "Mahesh Anand",
      "photoUrl": "https://lh3.googleusercontent.com/a-/AOh14GiAxRvO4nLPhI4SJLaIoUVmhr8lm1tddyCLyKOj=s64",
      "userId": "06788086636039591358"
     },
     "user_tz": -330
    },
    "id": "8BG85QjPiA8n"
   },
   "outputs": [],
   "source": [
    "from sklearn.model_selection import cross_val_score"
   ]
  },
  {
   "cell_type": "code",
   "execution_count": 21,
   "metadata": {
    "colab": {},
    "colab_type": "code",
    "executionInfo": {
     "elapsed": 1413,
     "status": "ok",
     "timestamp": 1599565502289,
     "user": {
      "displayName": "Mahesh Anand",
      "photoUrl": "https://lh3.googleusercontent.com/a-/AOh14GiAxRvO4nLPhI4SJLaIoUVmhr8lm1tddyCLyKOj=s64",
      "userId": "06788086636039591358"
     },
     "user_tz": -330
    },
    "id": "euluhhG5iGnL"
   },
   "outputs": [],
   "source": [
    "LR=LinearRegression()"
   ]
  },
  {
   "cell_type": "markdown",
   "metadata": {
    "colab_type": "text",
    "id": "s1fOajqCXyMy"
   },
   "source": [
    "The above output returns the best predictors that can be used to predict the price of a diamond."
   ]
  },
  {
   "cell_type": "markdown",
   "metadata": {
    "colab_type": "text",
    "id": "KDQQRUl-XyMz"
   },
   "source": [
    "<table align=\"left\">\n",
    "    <tr>\n",
    "        <td width=\"6%\">\n",
    "            <img src=\"question_icon.png\">\n",
    "        </td>\n",
    "        <td>\n",
    "            <div align=\"left\", style=\"font-size:120%\">\n",
    "                <font color=\"#21618C\">\n",
    "                    <b>4. Use the 4-fold cross validation method and compute the coefficient of determination for each model\n",
    "                    </b>\n",
    "                </font>\n",
    "            </div>\n",
    "        </td>\n",
    "    </tr>\n",
    "</table>"
   ]
  },
  {
   "cell_type": "code",
   "execution_count": 22,
   "metadata": {
    "colab": {},
    "colab_type": "code",
    "executionInfo": {
     "elapsed": 1183,
     "status": "ok",
     "timestamp": 1599565433395,
     "user": {
      "displayName": "Mahesh Anand",
      "photoUrl": "https://lh3.googleusercontent.com/a-/AOh14GiAxRvO4nLPhI4SJLaIoUVmhr8lm1tddyCLyKOj=s64",
      "userId": "06788086636039591358"
     },
     "user_tz": -330
    },
    "id": "VeTmMpTaXyMz"
   },
   "outputs": [],
   "source": [
    "# consider the independent variables\n",
    "# select_dtypes: selects the variable having specified datatype\n",
    "# include: includes the variables with specified datatype\n",
    "# drop(): drops specified column(s)/row(s) from the dataframe\n",
    "# axis: specifies whether to drop labels from index or columns; use 1 for columns and 0 for index\n",
    "df_num = df_diamond.select_dtypes(include=np.number).drop([\"price\"],axis=1)\n",
    "\n",
    "# consider all the categorical variables in the data\n",
    "# select_dtypes: selects the variable having specified datatype\n",
    "# include: includes the variables with specified datatype\n",
    "df_cat = df_diamond.select_dtypes(include=\"object\")\n",
    "\n",
    "# convert the categorical variable to dummy variable\n",
    "# get_dummies(): converts the variable to categorical variable\n",
    "# drop_first=True: indicates n-1 dummy enoding; if set to false indicated one-hot encoding\n",
    "dummy_variables = pd.get_dummies(df_cat, drop_first=True)\n",
    "\n",
    "# concatenate the numerical and dummy variables\n",
    "# axis: specifies whether to drop labels from index or columns; use 1 for columns and 0 for index\n",
    "X = pd.concat([df_num, dummy_variables],axis=1)\n",
    "\n",
    "# dependent variable\n",
    "y = df_diamond['price']\n",
    "\n",
    "# split data into train subset and test subset\n",
    "# set 'random_state' to generate the same dataset each time you run the code \n",
    "# 'test_size' returns the proportion of data to be included in the testing set\n",
    "#X_train, X_test, y_train, y_test = train_test_split(X, y, test_size = 0.20, random_state = 10)\n",
    "\n",
    "# using cross_val_score() for k-fold cross validation\n",
    "# estimator: pass the machine learning function. Here we are performing linear regression\n",
    "# pass the X_train and y_train sets\n",
    "# cv: stands for number of subsets\n",
    "# scoring: pass the scoring parameter, 'r2' for R-squared \n",
    "\n"
   ]
  },
  {
   "cell_type": "code",
   "execution_count": 23,
   "metadata": {
    "colab": {
     "base_uri": "https://localhost:8080/",
     "height": 34
    },
    "colab_type": "code",
    "executionInfo": {
     "elapsed": 2168,
     "status": "ok",
     "timestamp": 1599565584340,
     "user": {
      "displayName": "Mahesh Anand",
      "photoUrl": "https://lh3.googleusercontent.com/a-/AOh14GiAxRvO4nLPhI4SJLaIoUVmhr8lm1tddyCLyKOj=s64",
      "userId": "06788086636039591358"
     },
     "user_tz": -330
    },
    "id": "Zj3Iz-64iSzF",
    "outputId": "8611c46a-19fa-401e-bdcd-95e8c6d220c4"
   },
   "outputs": [
    {
     "data": {
      "text/plain": [
       "(1378.4111993292995, 81.09396882766579)"
      ]
     },
     "execution_count": 23,
     "metadata": {},
     "output_type": "execute_result"
    }
   ],
   "source": [
    "scores = cross_val_score(LR,X,y,cv=4,scoring ='neg_mean_squared_error')\n",
    "rmse=np.sqrt(np.abs(scores))\n",
    "# print the coefficient of determination for each model\n",
    "np.mean(rmse),np.std(rmse,ddof=1)"
   ]
  },
  {
   "cell_type": "markdown",
   "metadata": {
    "colab_type": "text",
    "id": "Ei6GAuFBXyM1"
   },
   "source": [
    "<table align=\"left\">\n",
    "    <tr>\n",
    "        <td width=\"6%\">\n",
    "            <img src=\"question_icon.png\">\n",
    "        </td>\n",
    "        <td>\n",
    "            <div align=\"left\", style=\"font-size:120%\">\n",
    "                <font color=\"#21618C\">\n",
    "                    <b>5. Identify the most insignificant numerical variable among all the numeric variables in the data\n",
    "                    </b>\n",
    "                </font>\n",
    "            </div>\n",
    "        </td>\n",
    "    </tr>\n",
    "</table>"
   ]
  },
  {
   "cell_type": "code",
   "execution_count": 24,
   "metadata": {
    "colab": {},
    "colab_type": "code",
    "id": "wGXwrbaoXyM1",
    "outputId": "64505ab0-5b66-4e27-aba9-65f2eb179847"
   },
   "outputs": [
    {
     "name": "stdout",
     "output_type": "stream",
     "text": [
      "                            OLS Regression Results                            \n",
      "==============================================================================\n",
      "Dep. Variable:                  price   R-squared:                       0.878\n",
      "Model:                            OLS   Adj. R-squared:                  0.878\n",
      "Method:                 Least Squares   F-statistic:                     1479.\n",
      "Date:                Fri, 18 Sep 2020   Prob (F-statistic):               0.00\n",
      "Time:                        13:06:30   Log-Likelihood:                -10755.\n",
      "No. Observations:                1237   AIC:                         2.152e+04\n",
      "Df Residuals:                    1230   BIC:                         2.156e+04\n",
      "Df Model:                           6                                         \n",
      "Covariance Type:            nonrobust                                         \n",
      "==============================================================================\n",
      "                 coef    std err          t      P>|t|      [0.025      0.975]\n",
      "------------------------------------------------------------------------------\n",
      "const      -1.224e+04   9597.190     -1.275      0.202   -3.11e+04    6590.816\n",
      "carat       1.268e+04    434.126     29.206      0.000    1.18e+04    1.35e+04\n",
      "depth        360.7280    152.325      2.368      0.018      61.882     659.574\n",
      "table        -86.0287     19.853     -4.333      0.000    -124.979     -47.079\n",
      "x          -1018.4082    995.440     -1.023      0.306   -2971.357     934.541\n",
      "y           4413.4514   1162.716      3.796      0.000    2132.325    6694.577\n",
      "z          -8675.3587   2495.479     -3.476      0.001   -1.36e+04   -3779.492\n",
      "==============================================================================\n",
      "Omnibus:                      440.618   Durbin-Watson:                   1.963\n",
      "Prob(Omnibus):                  0.000   Jarque-Bera (JB):             5244.508\n",
      "Skew:                           1.299   Prob(JB):                         0.00\n",
      "Kurtosis:                      12.747   Cond. No.                     2.05e+04\n",
      "==============================================================================\n",
      "\n",
      "Warnings:\n",
      "[1] Standard Errors assume that the covariance matrix of the errors is correctly specified.\n",
      "[2] The condition number is large, 2.05e+04. This might indicate that there are\n",
      "strong multicollinearity or other numerical problems.\n"
     ]
    }
   ],
   "source": [
    "# consider the independent variables\n",
    "# we need to drop the feature 'price' from X \n",
    "# select_dtypes: selects the variable having specified datatype\n",
    "# include: includes the variables with specified datatype\n",
    "# drop(): drops specified column(s)/row(s) from the dataframe\n",
    "# axis: specifies whether to drop labels from index or columns; use 1 for columns and 0 for index\n",
    "X = df_diamond.select_dtypes(include=[np.number]).drop([\"price\"],axis=1)\n",
    "\n",
    "# consider the dependent variables\n",
    "y = df_diamond[\"price\"]\n",
    "\n",
    "# split data into train subset and test subset\n",
    "# set 'random_state' to generate the same dataset each time you run the code \n",
    "# 'test_size' returns the proportion of data to be included in the testing set\n",
    "X_train, X_test, y_train, y_test = train_test_split(X, y, test_size = 0.20, random_state = 10)\n",
    "\n",
    "# fit a model with an intercept using fit()\n",
    "# add_constant(): adds the intercept term to the model\n",
    "LM_model_num = sm.OLS(y_train, sm.add_constant(X_train)).fit()\n",
    "\n",
    "# print the summary output\n",
    "print(LM_model_num.summary())"
   ]
  },
  {
   "cell_type": "markdown",
   "metadata": {
    "colab_type": "text",
    "id": "TGQj1lypXyM3"
   },
   "source": [
    "From the above model summary, we can see that the variable representing the length of a diamond (`x`) has the highest p-value. Thus, `x` is the most  insignificant numerical variable among all the numeric variables."
   ]
  },
  {
   "cell_type": "markdown",
   "metadata": {
    "colab_type": "text",
    "id": "kVi7nD-5XyM4"
   },
   "source": [
    "<table align=\"left\">\n",
    "    <tr>\n",
    "        <td width=\"6%\">\n",
    "            <img src=\"question_icon.png\">\n",
    "        </td>\n",
    "        <td>\n",
    "            <div align=\"left\", style=\"font-size:120%\">\n",
    "                <font color=\"#21618C\">\n",
    "                    <b>6. Do the residuals obtained from the full model follow a normal distribution?\n",
    "                    </b>\n",
    "                </font>\n",
    "            </div>\n",
    "        </td>\n",
    "    </tr>\n",
    "</table>"
   ]
  },
  {
   "cell_type": "markdown",
   "metadata": {
    "colab_type": "text",
    "id": "5hC6y9CIXyM4"
   },
   "source": [
    "Use the full model build in Q2 to check the normality of residuals."
   ]
  },
  {
   "cell_type": "code",
   "execution_count": 25,
   "metadata": {
    "colab": {
     "base_uri": "https://localhost:8080/",
     "height": 737
    },
    "colab_type": "code",
    "executionInfo": {
     "elapsed": 2148,
     "status": "ok",
     "timestamp": 1599565734897,
     "user": {
      "displayName": "Mahesh Anand",
      "photoUrl": "https://lh3.googleusercontent.com/a-/AOh14GiAxRvO4nLPhI4SJLaIoUVmhr8lm1tddyCLyKOj=s64",
      "userId": "06788086636039591358"
     },
     "user_tz": -330
    },
    "id": "Q_4Pe7n7XyM5",
    "outputId": "c947bae8-674e-450a-c3cb-332da446a4b3"
   },
   "outputs": [
    {
     "name": "stdout",
     "output_type": "stream",
     "text": [
      "                            OLS Regression Results                            \n",
      "==============================================================================\n",
      "Dep. Variable:                  price   R-squared:                       0.893\n",
      "Model:                            OLS   Adj. R-squared:                  0.891\n",
      "Method:                 Least Squares   F-statistic:                     635.2\n",
      "Date:                Fri, 18 Sep 2020   Prob (F-statistic):               0.00\n",
      "Time:                        13:06:45   Log-Likelihood:                -10691.\n",
      "No. Observations:                1237   AIC:                         2.142e+04\n",
      "Df Residuals:                    1220   BIC:                         2.150e+04\n",
      "Df Model:                          16                                         \n",
      "Covariance Type:            nonrobust                                         \n",
      "=================================================================================\n",
      "                    coef    std err          t      P>|t|      [0.025      0.975]\n",
      "---------------------------------------------------------------------------------\n",
      "const         -2.286e+04   9557.212     -2.392      0.017   -4.16e+04   -4111.730\n",
      "carat          1.298e+04    415.593     31.240      0.000    1.22e+04    1.38e+04\n",
      "depth           462.3432    150.168      3.079      0.002     167.727     756.960\n",
      "table           -29.1244     23.115     -1.260      0.208     -74.474      16.225\n",
      "x              -640.8957    998.510     -0.642      0.521   -2599.882    1318.091\n",
      "y              3992.7032   1189.392      3.357      0.001    1659.223    6326.184\n",
      "z             -8551.3086   2424.221     -3.527      0.000   -1.33e+04   -3795.204\n",
      "cut_Good        533.3744    272.885      1.955      0.051      -2.002    1068.751\n",
      "cut_Ideal      1226.3780    270.510      4.534      0.000     695.661    1757.095\n",
      "cut_Premium     908.8887    257.138      3.535      0.000     404.407    1413.371\n",
      "cut_Very Good   913.9185    263.970      3.462      0.001     396.034    1431.803\n",
      "color_E         -26.9259    144.806     -0.186      0.853    -311.022     257.170\n",
      "color_F         161.7630    144.410      1.120      0.263    -121.556     445.082\n",
      "color_G         -51.2989    140.480     -0.365      0.715    -326.907     224.309\n",
      "color_H        -652.8711    149.279     -4.373      0.000    -945.743    -359.999\n",
      "color_I       -1153.3894    172.258     -6.696      0.000   -1491.344    -815.434\n",
      "color_J       -1825.6926    204.403     -8.932      0.000   -2226.713   -1424.672\n",
      "==============================================================================\n",
      "Omnibus:                      397.848   Durbin-Watson:                   1.970\n",
      "Prob(Omnibus):                  0.000   Jarque-Bera (JB):             5012.487\n",
      "Skew:                           1.119   Prob(JB):                         0.00\n",
      "Kurtosis:                      12.604   Cond. No.                     2.14e+04\n",
      "==============================================================================\n",
      "\n",
      "Warnings:\n",
      "[1] Standard Errors assume that the covariance matrix of the errors is correctly specified.\n",
      "[2] The condition number is large, 2.14e+04. This might indicate that there are\n",
      "strong multicollinearity or other numerical problems.\n"
     ]
    }
   ],
   "source": [
    "# print the summary of full model from Q2\n",
    "print(MLR_model_full.summary())"
   ]
  },
  {
   "cell_type": "markdown",
   "metadata": {
    "colab_type": "text",
    "id": "vcrWrkfRXyM7"
   },
   "source": [
    "Plot a Q-Q plot, to check the normality of the residuals."
   ]
  },
  {
   "cell_type": "code",
   "execution_count": 26,
   "metadata": {
    "colab": {},
    "colab_type": "code",
    "id": "AhwTqnPcXyM7",
    "outputId": "29ef85e4-af29-4eef-dab2-46c188647769"
   },
   "outputs": [
    {
     "data": {
      "image/png": "[encoded data removed]",
      "text/plain": [
       "<Figure size 1080x576 with 1 Axes>"
      ]
     },
     "metadata": {
      "needs_background": "light"
     },
     "output_type": "display_data"
    }
   ],
   "source": [
    "# set the plot size using 'rcParams'\n",
    "# pass width and height in inches to 'figure.figsize' \n",
    "plt.rcParams['figure.figsize'] = [15,8]\n",
    "\n",
    "# plot the Q-Q plot\n",
    "# 'r' represents the regression line\n",
    "# 'resid' returns the residuals \n",
    "qqplot(MLR_model_full.resid, line = 'r')\n",
    "\n",
    "# set plot and axes labels\n",
    "# set text size using 'fontsize'\n",
    "plt.title('Q-Q Plot', fontsize = 15)\n",
    "plt.xlabel('Theoretical Quantiles', fontsize = 15)\n",
    "plt.ylabel('Sample Quantiles', fontsize = 15)\n",
    "\n",
    "# display the plot\n",
    "plt.show()"
   ]
  },
  {
   "cell_type": "markdown",
   "metadata": {
    "colab_type": "text",
    "id": "xPxjSdbLXyM-"
   },
   "source": [
    "As, the blue points are varying from the regression line, we can say that the residuals are not normal."
   ]
  },
  {
   "cell_type": "code",
   "execution_count": 27,
   "metadata": {},
   "outputs": [
    {
     "data": {
      "text/plain": [
       "(0.8381052017211914, 1.1173317168630661e-33)"
      ]
     },
     "execution_count": 27,
     "metadata": {},
     "output_type": "execute_result"
    }
   ],
   "source": [
    "from scipy.stats import shapiro\n",
    "\n",
    "shapiro(MLR_model_full.resid)"
   ]
  },
  {
   "cell_type": "markdown",
   "metadata": {},
   "source": [
    "The p_val of shapiro test is less than , which means thats it reject the H0(NULL hypothesis). Hence we can conclude that the residuals of the full model doesn't follow a normal distribution."
   ]
  },
  {
   "cell_type": "markdown",
   "metadata": {
    "colab_type": "text",
    "id": "lFV9fTkYXyM-"
   },
   "source": [
    "<table align=\"left\">\n",
    "    <tr>\n",
    "        <td width=\"6%\">\n",
    "            <img src=\"question_icon.png\">\n",
    "        </td>\n",
    "        <td>\n",
    "            <div align=\"left\", style=\"font-size:120%\">\n",
    "                <font color=\"#21618C\">\n",
    "                    <b>7. Is it possible to make the residuals normal? If yes, do the needful\n",
    "                    </b>\n",
    "                </font>\n",
    "            </div>\n",
    "        </td>\n",
    "    </tr>\n",
    "</table>"
   ]
  },
  {
   "cell_type": "markdown",
   "metadata": {
    "colab_type": "text",
    "id": "VBjyUZ78XyM_"
   },
   "source": [
    "We can satisfy the condition of normality for residuals by transforming the data. Transform the target variable, by taking log-transformation."
   ]
  },
  {
   "cell_type": "code",
   "execution_count": 28,
   "metadata": {
    "colab": {},
    "colab_type": "code",
    "id": "PCFjzGSSXyM_"
   },
   "outputs": [],
   "source": [
    "# consider the independent variables\n",
    "# select_dtypes: selects the variable having specified datatype\n",
    "# include: includes the variables with specified datatype\n",
    "# drop(): drops specified column(s)/row(s) from the dataframe\n",
    "# axis: specifies whether to drop labels from index or columns; use 1 for columns and 0 for index\n",
    "df_num = df_diamond.select_dtypes(include=np.number).drop([\"price\"],axis=1)\n",
    "\n",
    "# consider all the categorical variables in the data\n",
    "# select_dtypes: selects the variable having specified datatype\n",
    "# include: includes the variables with specified datatype\n",
    "df_cat = df_diamond.select_dtypes(include=\"object\")\n",
    "\n",
    "# convert the categorical variable to dummy variable\n",
    "# get_dummies(): converts the variable to categorical variable\n",
    "# drop_first=True: indicates n-1 dummy enoding; if set to false indicated one-hot encoding\n",
    "dummy_variables = pd.get_dummies(df_cat, drop_first=True)\n",
    "\n",
    "# concatenate the numerical and dummy variables\n",
    "# axis: specifies whether to drop labels from index or columns; use 1 for columns and 0 for index\n",
    "X = pd.concat([df_num, dummy_variables],axis=1)\n",
    "\n",
    "# dependent variable\n",
    "y = df_diamond['price']\n",
    "\n",
    "# split data into train subset and test subset\n",
    "# set 'random_state' to generate the same dataset each time you run the code \n",
    "# 'test_size' returns the proportion of data to be included in the testing set\n",
    "X_train, X_test, y_train, y_test = train_test_split(X, y, test_size = 0.20, random_state = 10)\n",
    "\n",
    "# build a model on training dataset\n",
    "# fit() is used to fit the OLS model\n",
    "MLR_model_after_transform = sm.OLS(np.log(y_train), X_train).fit()\n",
    "\n",
    "#MLR_model_after_transform.summary()"
   ]
  },
  {
   "cell_type": "markdown",
   "metadata": {
    "colab_type": "text",
    "id": "fd8JgS9HXyND"
   },
   "source": [
    "Plot a Q-Q plot, to check the normality of the residuals after transformation."
   ]
  },
  {
   "cell_type": "code",
   "execution_count": 29,
   "metadata": {
    "colab": {},
    "colab_type": "code",
    "id": "4dB2W0z8XyND",
    "outputId": "7b6fedc9-f7f1-44ae-da0b-592fc3754ad8"
   },
   "outputs": [
    {
     "data": {
      "image/png": "[encoded data removed]",
      "text/plain": [
       "<Figure size 1080x576 with 1 Axes>"
      ]
     },
     "metadata": {
      "needs_background": "light"
     },
     "output_type": "display_data"
    }
   ],
   "source": [
    "# set the plot size using 'rcParams'\n",
    "# pass width and height in inches to 'figure.figsize' \n",
    "plt.rcParams['figure.figsize'] = [15,8]\n",
    "\n",
    "# plot the Q-Q plot\n",
    "# 'r' represents the regression line\n",
    "# 'resid' returns the residuals \n",
    "qqplot(MLR_model_after_transform.resid, line='r')\n",
    "\n",
    "# set plot and axes labels\n",
    "# set text size using 'fontsize'\n",
    "#plt.title('Q-Q Plot', fontsize = 15)\n",
    "plt.xlabel('Theoretical Quantiles', fontsize = 15)\n",
    "plt.ylabel('Sample Quantiles', fontsize = 15)\n",
    "\n",
    "# display the plot\n",
    "plt.show()"
   ]
  },
  {
   "cell_type": "markdown",
   "metadata": {
    "colab_type": "text",
    "id": "OqTyuSs0XyNF"
   },
   "source": [
    "The above plot shows that most of the points lie on or near the regression line. Thus, we can say that the residuals are normally distributed."
   ]
  },
  {
   "cell_type": "markdown",
   "metadata": {
    "colab_type": "text",
    "id": "E2lKOqnoXyNF"
   },
   "source": [
    "<table align=\"left\">\n",
    "    <tr>\n",
    "        <td width=\"6%\">\n",
    "            <img src=\"question_icon.png\">\n",
    "        </td>\n",
    "        <td>\n",
    "            <div align=\"left\", style=\"font-size:120%\">\n",
    "                <font color=\"#21618C\">\n",
    "                    <b>8. Consider the full model and remove the variables one-by-one to obtain the set of seven most significant variables\n",
    "                    </b>\n",
    "                </font>\n",
    "            </div>\n",
    "        </td>\n",
    "    </tr>\n",
    "</table>"
   ]
  },
  {
   "cell_type": "code",
   "execution_count": 30,
   "metadata": {
    "colab": {},
    "colab_type": "code",
    "id": "uzU3NpZlXyNG",
    "outputId": "51b4970f-98f5-4d10-f14c-f781aab26bcd"
   },
   "outputs": [
    {
     "name": "stderr",
     "output_type": "stream",
     "text": [
      "[Parallel(n_jobs=1)]: Using backend SequentialBackend with 1 concurrent workers.\n",
      "[Parallel(n_jobs=1)]: Done   1 out of   1 | elapsed:    0.0s remaining:    0.0s\n",
      "[Parallel(n_jobs=1)]: Done  16 out of  16 | elapsed:    0.1s finished\n",
      "\n",
      "[2020-09-18 13:10:01] Features: 15/7 -- score: 0.8871942591343907[Parallel(n_jobs=1)]: Using backend SequentialBackend with 1 concurrent workers.\n",
      "[Parallel(n_jobs=1)]: Done   1 out of   1 | elapsed:    0.0s remaining:    0.0s\n",
      "[Parallel(n_jobs=1)]: Done  15 out of  15 | elapsed:    0.1s finished\n",
      "\n",
      "[2020-09-18 13:10:01] Features: 14/7 -- score: 0.8881058489311698[Parallel(n_jobs=1)]: Using backend SequentialBackend with 1 concurrent workers.\n",
      "[Parallel(n_jobs=1)]: Done   1 out of   1 | elapsed:    0.0s remaining:    0.0s\n",
      "[Parallel(n_jobs=1)]: Done  14 out of  14 | elapsed:    0.0s finished\n",
      "\n",
      "[2020-09-18 13:10:02] Features: 13/7 -- score: 0.8882079324599305[Parallel(n_jobs=1)]: Using backend SequentialBackend with 1 concurrent workers.\n",
      "[Parallel(n_jobs=1)]: Done   1 out of   1 | elapsed:    0.0s remaining:    0.0s\n",
      "[Parallel(n_jobs=1)]: Done  13 out of  13 | elapsed:    0.0s finished\n",
      "\n",
      "[2020-09-18 13:10:02] Features: 12/7 -- score: 0.8881994636303393[Parallel(n_jobs=1)]: Using backend SequentialBackend with 1 concurrent workers.\n",
      "[Parallel(n_jobs=1)]: Done   1 out of   1 | elapsed:    0.0s remaining:    0.0s\n",
      "[Parallel(n_jobs=1)]: Done  12 out of  12 | elapsed:    0.0s finished\n",
      "\n",
      "[2020-09-18 13:10:02] Features: 11/7 -- score: 0.8879354992513193[Parallel(n_jobs=1)]: Using backend SequentialBackend with 1 concurrent workers.\n",
      "[Parallel(n_jobs=1)]: Done   1 out of   1 | elapsed:    0.0s remaining:    0.0s\n",
      "[Parallel(n_jobs=1)]: Done  11 out of  11 | elapsed:    0.0s finished\n",
      "\n",
      "[2020-09-18 13:10:02] Features: 10/7 -- score: 0.8875503568634819[Parallel(n_jobs=1)]: Using backend SequentialBackend with 1 concurrent workers.\n",
      "[Parallel(n_jobs=1)]: Done   1 out of   1 | elapsed:    0.0s remaining:    0.0s\n",
      "[Parallel(n_jobs=1)]: Done  10 out of  10 | elapsed:    0.0s finished\n",
      "\n",
      "[2020-09-18 13:10:02] Features: 9/7 -- score: 0.886993876992071[Parallel(n_jobs=1)]: Using backend SequentialBackend with 1 concurrent workers.\n",
      "[Parallel(n_jobs=1)]: Done   1 out of   1 | elapsed:    0.0s remaining:    0.0s\n",
      "[Parallel(n_jobs=1)]: Done   9 out of   9 | elapsed:    0.0s finished\n",
      "\n",
      "[2020-09-18 13:10:02] Features: 8/7 -- score: 0.8866528384804567[Parallel(n_jobs=1)]: Using backend SequentialBackend with 1 concurrent workers.\n",
      "[Parallel(n_jobs=1)]: Done   1 out of   1 | elapsed:    0.0s remaining:    0.0s\n",
      "[Parallel(n_jobs=1)]: Done   8 out of   8 | elapsed:    0.0s finished\n",
      "\n",
      "[2020-09-18 13:10:02] Features: 7/7 -- score: 0.8849084733083092"
     ]
    },
    {
     "data": {
      "text/plain": [
       "('carat', 'depth', 'z', 'cut_Ideal', 'color_H', 'color_I', 'color_J')"
      ]
     },
     "execution_count": 30,
     "metadata": {},
     "output_type": "execute_result"
    }
   ],
   "source": [
    "# consider the independent variables\n",
    "# select_dtypes: selects the variable having specified datatype\n",
    "# include: includes the variables with specified datatype\n",
    "# drop(): drops specified column(s)/row(s) from the dataframe\n",
    "# axis: specifies whether to drop labels from index or columns; use 1 for columns and 0 for index\n",
    "df_num = df_diamond.select_dtypes(include=np.number).drop([\"price\"],axis=1)\n",
    "\n",
    "# consider all the categorical variables in the data\n",
    "# select_dtypes: selects the variable having specified datatype\n",
    "# include: includes the variables with specified datatype\n",
    "df_cat = df_diamond.select_dtypes(include=\"object\")\n",
    "\n",
    "# convert the categorical variable to dummy variable\n",
    "# get_dummies(): converts the variable to categorical variable\n",
    "# drop_first=True: indicates n-1 dummy enoding; if set to false indicated one-hot encoding\n",
    "dummy_variables = pd.get_dummies(df_cat, drop_first=True)\n",
    "\n",
    "# concatenate the numerical and dummy variables\n",
    "# axis: specifies whether to drop labels from index or columns; use 1 for columns and 0 for index\n",
    "X = pd.concat([df_num, dummy_variables],axis=1)\n",
    "\n",
    "# dependent variable\n",
    "y = df_diamond['price']\n",
    "\n",
    "# split data into train subset and test subset\n",
    "# set 'random_state' to generate the same dataset each time you run the code \n",
    "# 'test_size' returns the proportion of data to be included in the testing set\n",
    "X_train, X_test, y_train, y_test = train_test_split(X, y, test_size = 0.20, random_state = 10)\n",
    "\n",
    "# initiate linear regression model to use in feature selection\n",
    "linreg = LinearRegression()\n",
    "\n",
    "# Build step backward selection\n",
    "# pass the regression model to 'estimator'\n",
    "# pass number of required feartures to 'k_features'  \n",
    "# 'forward=False' performs backward selection method\n",
    "# 'verbose=1' returns the number of features at the corresponding step\n",
    "# 'verbose=2' returns the R-squared scores and the number of features at the corresponding step\n",
    "# 'scoring=r2' considers R-squared score to select the feature\n",
    "linreg_backward = sfs(estimator = linreg, k_features = 7, forward = False,\n",
    "                     verbose = 2, scoring = 'r2')\n",
    "\n",
    "# fit the step backward selection on training data using fit()\n",
    "sfs_backward = linreg_backward.fit(X_train, y_train)\n",
    "\n",
    "# feature names of the selected feature subsets\n",
    "sfs_backward.k_feature_names_"
   ]
  },
  {
   "cell_type": "markdown",
   "metadata": {
    "colab_type": "text",
    "id": "OWlQKnd-XyNR"
   },
   "source": [
    "The output shows the seven most significant features in the dataset. "
   ]
  },
  {
   "cell_type": "markdown",
   "metadata": {
    "colab_type": "text",
    "id": "mJsKY11JXyNR"
   },
   "source": [
    "<table align=\"left\">\n",
    "    <tr>\n",
    "        <td width=\"6%\">\n",
    "            <img src=\"question_icon.png\">\n",
    "        </td>\n",
    "        <td>\n",
    "            <div align=\"left\", style=\"font-size:120%\">\n",
    "                <font color=\"#21618C\">\n",
    "                    <b>9. Identify the colors of a diamond that are not significant while predicting the price?\n",
    "                    </b>\n",
    "                </font>\n",
    "            </div>\n",
    "        </td>\n",
    "    </tr>\n",
    "</table>"
   ]
  },
  {
   "cell_type": "code",
   "execution_count": 31,
   "metadata": {
    "colab": {},
    "colab_type": "code",
    "id": "LCsQAfIYXyNU",
    "outputId": "d697eec7-27f2-43fc-aba6-d7e4cad6567b"
   },
   "outputs": [
    {
     "name": "stdout",
     "output_type": "stream",
     "text": [
      "                            OLS Regression Results                            \n",
      "==============================================================================\n",
      "Dep. Variable:                  price   R-squared:                       0.025\n",
      "Model:                            OLS   Adj. R-squared:                  0.021\n",
      "Method:                 Least Squares   F-statistic:                     6.554\n",
      "Date:                Fri, 18 Sep 2020   Prob (F-statistic):           7.55e-07\n",
      "Time:                        13:10:13   Log-Likelihood:                -15051.\n",
      "No. Observations:                1547   AIC:                         3.012e+04\n",
      "Df Residuals:                    1540   BIC:                         3.015e+04\n",
      "Df Model:                           6                                         \n",
      "Covariance Type:            nonrobust                                         \n",
      "==============================================================================\n",
      "                 coef    std err          t      P>|t|      [0.025      0.975]\n",
      "------------------------------------------------------------------------------\n",
      "const       3590.7087    283.805     12.652      0.000    3034.023    4147.395\n",
      "color_E     -502.1820    373.622     -1.344      0.179   -1235.043     230.679\n",
      "color_F        2.2073    375.635      0.006      0.995    -734.603     739.017\n",
      "color_G      312.6099    364.537      0.858      0.391    -402.432    1027.652\n",
      "color_H     1053.3814    385.418      2.733      0.006     297.382    1809.381\n",
      "color_I     1326.7452    445.221      2.980      0.003     453.441    2200.049\n",
      "color_J     1614.7079    527.327      3.062      0.002     580.353    2649.063\n",
      "==============================================================================\n",
      "Omnibus:                      447.468   Durbin-Watson:                   1.962\n",
      "Prob(Omnibus):                  0.000   Jarque-Bera (JB):             1011.050\n",
      "Skew:                           1.626   Prob(JB):                    2.84e-220\n",
      "Kurtosis:                       5.260   Cond. No.                         8.33\n",
      "==============================================================================\n",
      "\n",
      "Warnings:\n",
      "[1] Standard Errors assume that the covariance matrix of the errors is correctly specified.\n"
     ]
    }
   ],
   "source": [
    "# consider the independent variables\n",
    "X = df_diamond['color']\n",
    "\n",
    "# convert the categorical variable to a dummy variable\n",
    "# get_dummies(): converts the variable to categorical variable\n",
    "# prefix: specifies the prefix added to each level while creating a dummy variable for it\n",
    "# drop_first=True: indicates n-1 dummy enoding; if set to false indicated one-hot encoding\n",
    "X_dummy = pd.get_dummies(X, prefix=\"color\", drop_first=True)\n",
    "\n",
    "# consider the dependent variable\n",
    "y = df_diamond[\"price\"]\n",
    "\n",
    "# fit a model with an intercept using fit()\n",
    "# add_constant(): adds the intercept term to the model\n",
    "SLR_model = sm.OLS(y, sm.add_constant(X_dummy)).fit()\n",
    "\n",
    "# print the summary output\n",
    "print(SLR_model.summary())"
   ]
  },
  {
   "cell_type": "markdown",
   "metadata": {
    "colab_type": "text",
    "id": "sh1VaAIlXyNX"
   },
   "source": [
    "The categorical variable 'color' explains a 2.5% variation in the price of a diamond. We can see that the p-values of color `E`, `F` and `G` are greater than 0.05. Thus, we say that these colors have no significance in predicting the price. The parameter 'const' represents the color 'D'."
   ]
  },
  {
   "cell_type": "markdown",
   "metadata": {
    "colab_type": "text",
    "id": "1BovzSFaXyNY"
   },
   "source": [
    "<table align=\"left\">\n",
    "    <tr>\n",
    "        <td width=\"6%\">\n",
    "            <img src=\"question_icon.png\">\n",
    "        </td>\n",
    "        <td>\n",
    "            <div align=\"left\", style=\"font-size:120%\">\n",
    "                <font color=\"#21618C\">\n",
    "                    <b>10. Build a regression model on the five features obtained by eliminating the features recursively \n",
    "                    </b>\n",
    "                </font>\n",
    "            </div>\n",
    "        </td>\n",
    "    </tr>\n",
    "</table>"
   ]
  },
  {
   "cell_type": "markdown",
   "metadata": {
    "colab_type": "text",
    "id": "ikYDNb-pXyNZ"
   },
   "source": [
    "Apply RFE on the dataset to obtain the five features."
   ]
  },
  {
   "cell_type": "code",
   "execution_count": 32,
   "metadata": {
    "colab": {},
    "colab_type": "code",
    "id": "ZGAiBnviXyNZ",
    "outputId": "a8fda68e-d843-44bb-d547-b19ca91f0170"
   },
   "outputs": [
    {
     "name": "stdout",
     "output_type": "stream",
     "text": [
      "carat             1\n",
      "depth             8\n",
      "table            11\n",
      "x                 1\n",
      "y                 1\n",
      "z                 1\n",
      "cut_Good          7\n",
      "cut_Ideal         4\n",
      "cut_Premium       6\n",
      "cut_Very Good     5\n",
      "color_E          12\n",
      "color_F           9\n",
      "color_G          10\n",
      "color_H           3\n",
      "color_I           2\n",
      "color_J           1\n",
      "dtype: int32\n",
      "Index(['carat', 'x', 'y', 'z', 'color_J'], dtype='object')\n"
     ]
    }
   ],
   "source": [
    "# consider the independent variables\n",
    "# select_dtypes: selects the variable having specified datatype\n",
    "# include: includes the variables with specified datatype\n",
    "# drop(): drops specified column(s)/row(s) from the dataframe\n",
    "# axis: specifies whether to drop labels from index or columns; use 1 for columns and 0 for index\n",
    "df_num = df_diamond.select_dtypes(include=np.number).drop([\"price\"],axis=1)\n",
    "\n",
    "# consider all the categorical variables in the data\n",
    "# select_dtypes: selects the variable having specified datatype\n",
    "# include: includes the variables with specified datatype\n",
    "df_cat = df_diamond.select_dtypes(include=\"object\")\n",
    "\n",
    "# convert the categorical variable to dummy variable\n",
    "# get_dummies(): converts the variable to categorical variable\n",
    "# drop_first=True: indicates n-1 dummy enoding; if set to false indicated one-hot encoding\n",
    "dummy_variables = pd.get_dummies(df_cat, drop_first=True)\n",
    "\n",
    "# concatenate the numerical and dummy variables\n",
    "# axis: specifies whether to drop labels from index or columns; use 1 for columns and 0 for index\n",
    "X = pd.concat([df_num, dummy_variables],axis=1)\n",
    "\n",
    "# dependent variable\n",
    "y = df_diamond['price']\n",
    "\n",
    "# split data into train subset and test subset\n",
    "# set 'random_state' to generate the same dataset each time you run the code \n",
    "# 'test_size' returns the proportion of data to be included in the testing set\n",
    "X_train, X_test, y_train, y_test = train_test_split(X, y, test_size = 0.20, random_state = 10)\n",
    "\n",
    "# initiate linear regression model to use in feature selection\n",
    "linreg_rfe = LinearRegression()\n",
    "\n",
    "# Build the RFE model\n",
    "# pass the regression model to 'estimator'\n",
    "# pass number of required features to 'n_features_to_select'\n",
    "# if we do not pass the number of features, RFE considers half of the features\n",
    "rfe_model = RFE(estimator=linreg_rfe, n_features_to_select = 5)\n",
    "\n",
    "# fit the RFE model on the training dataset using fit()\n",
    "rfe_model = rfe_model.fit(X_train, y_train)\n",
    "\n",
    "# create a series containing feature and its corresponding rank obtained from RFE\n",
    "# 'ranking_' returns the rank of each variable after applying RFE\n",
    "# pass the ranks as the 'data' of a series\n",
    "# 'index' assigns feature names as index of a series \n",
    "feat_index = pd.Series(data = rfe_model.ranking_, index = X_train.columns)\n",
    "print(feat_index)\n",
    "\n",
    "# select the features with rank = 1\n",
    "# 'index' returns the indices of a series (i.e. features with rank=1) \n",
    "signi_feat_rfe = feat_index[feat_index==1].index\n",
    "\n",
    "# print the significant features obtained from RFE\n",
    "print(signi_feat_rfe)"
   ]
  },
  {
   "cell_type": "markdown",
   "metadata": {
    "colab_type": "text",
    "id": "reQ_ChAiXyNd"
   },
   "source": [
    "Let us build the model using the features obtained above. "
   ]
  },
  {
   "cell_type": "code",
   "execution_count": 33,
   "metadata": {
    "colab": {},
    "colab_type": "code",
    "id": "GKP0diS6XyNe",
    "outputId": "5f4759cf-8666-490a-d5f9-b2304b46ca12",
    "scrolled": true
   },
   "outputs": [
    {
     "name": "stdout",
     "output_type": "stream",
     "text": [
      "                            OLS Regression Results                            \n",
      "==============================================================================\n",
      "Dep. Variable:                  price   R-squared:                       0.884\n",
      "Model:                            OLS   Adj. R-squared:                  0.884\n",
      "Method:                 Least Squares   F-statistic:                     1878.\n",
      "Date:                Fri, 18 Sep 2020   Prob (F-statistic):               0.00\n",
      "Time:                        13:12:07   Log-Likelihood:                -10725.\n",
      "No. Observations:                1237   AIC:                         2.146e+04\n",
      "Df Residuals:                    1231   BIC:                         2.149e+04\n",
      "Df Model:                           5                                         \n",
      "Covariance Type:            nonrobust                                         \n",
      "==============================================================================\n",
      "                 coef    std err          t      P>|t|      [0.025      0.975]\n",
      "------------------------------------------------------------------------------\n",
      "const       5637.1528    704.307      8.004      0.000    4255.378    7018.928\n",
      "carat       1.304e+04    424.210     30.748      0.000    1.22e+04    1.39e+04\n",
      "x          -3888.1078    740.526     -5.250      0.000   -5340.940   -2435.276\n",
      "y           2977.0143    720.782      4.130      0.000    1562.917    4391.111\n",
      "z          -1908.2625    484.374     -3.940      0.000   -2858.553    -957.972\n",
      "color_J    -1665.0478    176.314     -9.444      0.000   -2010.957   -1319.139\n",
      "==============================================================================\n",
      "Omnibus:                      437.089   Durbin-Watson:                   1.983\n",
      "Prob(Omnibus):                  0.000   Jarque-Bera (JB):             6055.184\n",
      "Skew:                           1.239   Prob(JB):                         0.00\n",
      "Kurtosis:                      13.552   Cond. No.                         229.\n",
      "==============================================================================\n",
      "\n",
      "Warnings:\n",
      "[1] Standard Errors assume that the covariance matrix of the errors is correctly specified.\n"
     ]
    }
   ],
   "source": [
    "# store the X_train with significant variables in new_X_train\n",
    "X_train_rfe = X_train[['carat', 'x', 'y', 'z', 'color_J']]\n",
    "\n",
    "# fit a full model with an intercept using fit()\n",
    "# add_constant(): adds the intercept term to the model\n",
    "MLR_model_rfe = sm.OLS(y_train, sm.add_constant(X_train_rfe)).fit()\n",
    "\n",
    "# print the summary output\n",
    "print(MLR_model_rfe.summary())"
   ]
  },
  {
   "cell_type": "markdown",
   "metadata": {
    "colab_type": "text",
    "id": "KwggMHnKXyNq"
   },
   "source": [
    "The model build on the five features obtained from RFE explains a 88.4% variation in the price."
   ]
  }
 ],
 "metadata": {
  "colab": {
   "collapsed_sections": [],
   "name": "SLR - Take home (Day 2) - Solutions [v1.0 - 130420].ipynb",
   "provenance": []
  },
  "kernelspec": {
   "display_name": "Python 3",
   "language": "python",
   "name": "python3"
  },
  "language_info": {
   "codemirror_mode": {
    "name": "ipython",
    "version": 3
   },
   "file_extension": ".py",
   "mimetype": "text/x-python",
   "name": "python",
   "nbconvert_exporter": "python",
   "pygments_lexer": "ipython3",
   "version": "3.8.3"
  }
 },
 "nbformat": 4,
 "nbformat_minor": 1
}
